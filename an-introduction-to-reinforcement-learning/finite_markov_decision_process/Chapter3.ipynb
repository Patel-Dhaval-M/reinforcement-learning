{
 "cells": [
  {
   "cell_type": "code",
   "execution_count": 1,
   "metadata": {
    "collapsed": true
   },
   "outputs": [],
   "source": [
    "#######################################################################\n",
    "# Copyright (C)                                                       #\n",
    "# 2016 Shangtong Zhang(zhangshangtong.cpp@gmail.com)                  #\n",
    "# 2016 Kenta Shimada(hyperkentakun@gmail.com)                         #\n",
    "# Permission given to modify the code as long as you keep this        #\n",
    "# declaration at the top                                              #\n",
    "#######################################################################\n",
    "\n",
    "from __future__ import print_function\n",
    "import numpy as np\n",
    "\n",
    "WORLD_SIZE = 5\n",
    "A_POS = [0, 1]\n",
    "A_PRIME_POS = [4, 1]\n",
    "B_POS = [0, 3]\n",
    "B_PRIME_POS = [2, 3]\n",
    "discount = 0.9\n",
    "\n",
    "world = np.zeros((WORLD_SIZE, WORLD_SIZE))\n",
    "\n",
    "# left, up, right, down\n",
    "actions = ['L', 'U', 'R', 'D']"
   ]
  },
  {
   "cell_type": "code",
   "execution_count": 2,
   "metadata": {
    "collapsed": true
   },
   "outputs": [],
   "source": [
    "actionProb = []\n",
    "for i in range(0, WORLD_SIZE):\n",
    "    actionProb.append([])\n",
    "    for j in range(0, WORLD_SIZE):\n",
    "        actionProb[i].append(dict({'L':0.25, 'U':0.25, 'R':0.25, 'D':0.25}))"
   ]
  },
  {
   "cell_type": "code",
   "execution_count": 8,
   "metadata": {},
   "outputs": [
    {
     "data": {
      "text/plain": [
       "[[{'D': 0.25, 'L': 0.25, 'R': 0.25, 'U': 0.25},\n",
       "  {'D': 0.25, 'L': 0.25, 'R': 0.25, 'U': 0.25},\n",
       "  {'D': 0.25, 'L': 0.25, 'R': 0.25, 'U': 0.25},\n",
       "  {'D': 0.25, 'L': 0.25, 'R': 0.25, 'U': 0.25},\n",
       "  {'D': 0.25, 'L': 0.25, 'R': 0.25, 'U': 0.25}],\n",
       " [{'D': 0.25, 'L': 0.25, 'R': 0.25, 'U': 0.25},\n",
       "  {'D': 0.25, 'L': 0.25, 'R': 0.25, 'U': 0.25},\n",
       "  {'D': 0.25, 'L': 0.25, 'R': 0.25, 'U': 0.25},\n",
       "  {'D': 0.25, 'L': 0.25, 'R': 0.25, 'U': 0.25},\n",
       "  {'D': 0.25, 'L': 0.25, 'R': 0.25, 'U': 0.25}],\n",
       " [{'D': 0.25, 'L': 0.25, 'R': 0.25, 'U': 0.25},\n",
       "  {'D': 0.25, 'L': 0.25, 'R': 0.25, 'U': 0.25},\n",
       "  {'D': 0.25, 'L': 0.25, 'R': 0.25, 'U': 0.25},\n",
       "  {'D': 0.25, 'L': 0.25, 'R': 0.25, 'U': 0.25},\n",
       "  {'D': 0.25, 'L': 0.25, 'R': 0.25, 'U': 0.25}],\n",
       " [{'D': 0.25, 'L': 0.25, 'R': 0.25, 'U': 0.25},\n",
       "  {'D': 0.25, 'L': 0.25, 'R': 0.25, 'U': 0.25},\n",
       "  {'D': 0.25, 'L': 0.25, 'R': 0.25, 'U': 0.25},\n",
       "  {'D': 0.25, 'L': 0.25, 'R': 0.25, 'U': 0.25},\n",
       "  {'D': 0.25, 'L': 0.25, 'R': 0.25, 'U': 0.25}],\n",
       " [{'D': 0.25, 'L': 0.25, 'R': 0.25, 'U': 0.25},\n",
       "  {'D': 0.25, 'L': 0.25, 'R': 0.25, 'U': 0.25},\n",
       "  {'D': 0.25, 'L': 0.25, 'R': 0.25, 'U': 0.25},\n",
       "  {'D': 0.25, 'L': 0.25, 'R': 0.25, 'U': 0.25},\n",
       "  {'D': 0.25, 'L': 0.25, 'R': 0.25, 'U': 0.25}]]"
      ]
     },
     "execution_count": 8,
     "metadata": {},
     "output_type": "execute_result"
    }
   ],
   "source": [
    "actionProb"
   ]
  },
  {
   "cell_type": "code",
   "execution_count": 4,
   "metadata": {
    "collapsed": true
   },
   "outputs": [],
   "source": [
    "nextState = []\n",
    "actionReward = []\n",
    "for i in range(0, WORLD_SIZE):\n",
    "    nextState.append([])\n",
    "    actionReward.append([])\n",
    "    for j in range(0, WORLD_SIZE):\n",
    "        next = dict()\n",
    "        reward = dict()\n",
    "        if i == 0:\n",
    "            next['U'] = [i, j]\n",
    "            reward['U'] = -1.0\n",
    "        else:\n",
    "            next['U'] = [i - 1, j]\n",
    "            reward['U'] = 0.0\n",
    "\n",
    "        if i == WORLD_SIZE - 1:\n",
    "            next['D'] = [i, j]\n",
    "            reward['D'] = -1.0\n",
    "        else:\n",
    "            next['D'] = [i + 1, j]\n",
    "            reward['D'] = 0.0\n",
    "\n",
    "        if j == 0:\n",
    "            next['L'] = [i, j]\n",
    "            reward['L'] = -1.0\n",
    "        else:\n",
    "            next['L'] = [i, j - 1]\n",
    "            reward['L'] = 0.0\n",
    "\n",
    "        if j == WORLD_SIZE - 1:\n",
    "            next['R'] = [i, j]\n",
    "            reward['R'] = -1.0\n",
    "        else:\n",
    "            next['R'] = [i, j + 1]\n",
    "            reward['R'] = 0.0\n",
    "\n",
    "        if [i, j] == A_POS:\n",
    "            next['L'] = next['R'] = next['D'] = next['U'] = A_PRIME_POS\n",
    "            reward['L'] = reward['R'] = reward['D'] = reward['U'] = 10.0\n",
    "\n",
    "        if [i, j] == B_POS:\n",
    "            next['L'] = next['R'] = next['D'] = next['U'] = B_PRIME_POS\n",
    "            reward['L'] = reward['R'] = reward['D'] = reward['U'] = 5.0\n",
    "\n",
    "        nextState[i].append(next)\n",
    "        actionReward[i].append(reward)"
   ]
  },
  {
   "cell_type": "code",
   "execution_count": 16,
   "metadata": {},
   "outputs": [
    {
     "data": {
      "text/plain": [
       "[[{'D': [1, 0], 'L': [0, 0], 'R': [0, 1], 'U': [0, 0]},\n",
       "  {'D': [4, 1], 'L': [4, 1], 'R': [4, 1], 'U': [4, 1]},\n",
       "  {'D': [1, 2], 'L': [0, 1], 'R': [0, 3], 'U': [0, 2]},\n",
       "  {'D': [2, 3], 'L': [2, 3], 'R': [2, 3], 'U': [2, 3]},\n",
       "  {'D': [1, 4], 'L': [0, 3], 'R': [0, 4], 'U': [0, 4]}],\n",
       " [{'D': [2, 0], 'L': [1, 0], 'R': [1, 1], 'U': [0, 0]},\n",
       "  {'D': [2, 1], 'L': [1, 0], 'R': [1, 2], 'U': [0, 1]},\n",
       "  {'D': [2, 2], 'L': [1, 1], 'R': [1, 3], 'U': [0, 2]},\n",
       "  {'D': [2, 3], 'L': [1, 2], 'R': [1, 4], 'U': [0, 3]},\n",
       "  {'D': [2, 4], 'L': [1, 3], 'R': [1, 4], 'U': [0, 4]}],\n",
       " [{'D': [3, 0], 'L': [2, 0], 'R': [2, 1], 'U': [1, 0]},\n",
       "  {'D': [3, 1], 'L': [2, 0], 'R': [2, 2], 'U': [1, 1]},\n",
       "  {'D': [3, 2], 'L': [2, 1], 'R': [2, 3], 'U': [1, 2]},\n",
       "  {'D': [3, 3], 'L': [2, 2], 'R': [2, 4], 'U': [1, 3]},\n",
       "  {'D': [3, 4], 'L': [2, 3], 'R': [2, 4], 'U': [1, 4]}],\n",
       " [{'D': [4, 0], 'L': [3, 0], 'R': [3, 1], 'U': [2, 0]},\n",
       "  {'D': [4, 1], 'L': [3, 0], 'R': [3, 2], 'U': [2, 1]},\n",
       "  {'D': [4, 2], 'L': [3, 1], 'R': [3, 3], 'U': [2, 2]},\n",
       "  {'D': [4, 3], 'L': [3, 2], 'R': [3, 4], 'U': [2, 3]},\n",
       "  {'D': [4, 4], 'L': [3, 3], 'R': [3, 4], 'U': [2, 4]}],\n",
       " [{'D': [4, 0], 'L': [4, 0], 'R': [4, 1], 'U': [3, 0]},\n",
       "  {'D': [4, 1], 'L': [4, 0], 'R': [4, 2], 'U': [3, 1]},\n",
       "  {'D': [4, 2], 'L': [4, 1], 'R': [4, 3], 'U': [3, 2]},\n",
       "  {'D': [4, 3], 'L': [4, 2], 'R': [4, 4], 'U': [3, 3]},\n",
       "  {'D': [4, 4], 'L': [4, 3], 'R': [4, 4], 'U': [3, 4]}]]"
      ]
     },
     "execution_count": 16,
     "metadata": {},
     "output_type": "execute_result"
    }
   ],
   "source": [
    "nextState"
   ]
  },
  {
   "cell_type": "code",
   "execution_count": 17,
   "metadata": {},
   "outputs": [
    {
     "data": {
      "text/plain": [
       "[[{'D': 0.0, 'L': -1.0, 'R': 0.0, 'U': -1.0},\n",
       "  {'D': 10.0, 'L': 10.0, 'R': 10.0, 'U': 10.0},\n",
       "  {'D': 0.0, 'L': 0.0, 'R': 0.0, 'U': -1.0},\n",
       "  {'D': 5.0, 'L': 5.0, 'R': 5.0, 'U': 5.0},\n",
       "  {'D': 0.0, 'L': 0.0, 'R': -1.0, 'U': -1.0}],\n",
       " [{'D': 0.0, 'L': -1.0, 'R': 0.0, 'U': 0.0},\n",
       "  {'D': 0.0, 'L': 0.0, 'R': 0.0, 'U': 0.0},\n",
       "  {'D': 0.0, 'L': 0.0, 'R': 0.0, 'U': 0.0},\n",
       "  {'D': 0.0, 'L': 0.0, 'R': 0.0, 'U': 0.0},\n",
       "  {'D': 0.0, 'L': 0.0, 'R': -1.0, 'U': 0.0}],\n",
       " [{'D': 0.0, 'L': -1.0, 'R': 0.0, 'U': 0.0},\n",
       "  {'D': 0.0, 'L': 0.0, 'R': 0.0, 'U': 0.0},\n",
       "  {'D': 0.0, 'L': 0.0, 'R': 0.0, 'U': 0.0},\n",
       "  {'D': 0.0, 'L': 0.0, 'R': 0.0, 'U': 0.0},\n",
       "  {'D': 0.0, 'L': 0.0, 'R': -1.0, 'U': 0.0}],\n",
       " [{'D': 0.0, 'L': -1.0, 'R': 0.0, 'U': 0.0},\n",
       "  {'D': 0.0, 'L': 0.0, 'R': 0.0, 'U': 0.0},\n",
       "  {'D': 0.0, 'L': 0.0, 'R': 0.0, 'U': 0.0},\n",
       "  {'D': 0.0, 'L': 0.0, 'R': 0.0, 'U': 0.0},\n",
       "  {'D': 0.0, 'L': 0.0, 'R': -1.0, 'U': 0.0}],\n",
       " [{'D': -1.0, 'L': -1.0, 'R': 0.0, 'U': 0.0},\n",
       "  {'D': -1.0, 'L': 0.0, 'R': 0.0, 'U': 0.0},\n",
       "  {'D': -1.0, 'L': 0.0, 'R': 0.0, 'U': 0.0},\n",
       "  {'D': -1.0, 'L': 0.0, 'R': 0.0, 'U': 0.0},\n",
       "  {'D': -1.0, 'L': 0.0, 'R': -1.0, 'U': 0.0}]]"
      ]
     },
     "execution_count": 17,
     "metadata": {},
     "output_type": "execute_result"
    }
   ],
   "source": [
    "actionReward"
   ]
  },
  {
   "cell_type": "code",
   "execution_count": 7,
   "metadata": {},
   "outputs": [
    {
     "data": {
      "text/plain": [
       "array([[ 0.,  0.,  0.,  0.,  0.],\n",
       "       [ 0.,  0.,  0.,  0.,  0.],\n",
       "       [ 0.,  0.,  0.,  0.,  0.],\n",
       "       [ 0.,  0.,  0.,  0.,  0.],\n",
       "       [ 0.,  0.,  0.,  0.,  0.]])"
      ]
     },
     "execution_count": 7,
     "metadata": {},
     "output_type": "execute_result"
    }
   ],
   "source": [
    "world"
   ]
  },
  {
   "cell_type": "code",
   "execution_count": 23,
   "metadata": {},
   "outputs": [
    {
     "name": "stdout",
     "output_type": "stream",
     "text": [
      "Random Policy\n",
      "[[ 3.30899634  8.78929187  4.42761919  5.3223676   1.49217876]\n",
      " [ 1.52158807  2.99231786  2.25013995  1.90757171  0.54740271]\n",
      " [ 0.05082249  0.73817059  0.67311326  0.35818622 -0.40314114]\n",
      " [-0.9735923  -0.43549543 -0.35488226 -0.58560508 -1.18307508]\n",
      " [-1.85770055 -1.34523126 -1.22926726 -1.42291814 -1.97517904]]\n"
     ]
    }
   ],
   "source": [
    "while True:\n",
    "    # keep iteration until convergence\n",
    "    newWorld = np.zeros((WORLD_SIZE, WORLD_SIZE))\n",
    "    for i in range(0, WORLD_SIZE):\n",
    "        for j in range(0, WORLD_SIZE):\n",
    "            for action in actions:\n",
    "                newPosition = nextState[i][j][action]\n",
    "                # bellman equation\n",
    "                newWorld[i, j] += actionProb[i][j][action] * (actionReward[i][j][action] + discount * world[newPosition[0], newPosition[1]])\n",
    "    if np.sum(np.abs(world - newWorld)) < 1e-4:\n",
    "        print('Random Policy')\n",
    "        print(newWorld)\n",
    "        break\n",
    "    world = newWorld"
   ]
  },
  {
   "cell_type": "code",
   "execution_count": 32,
   "metadata": {},
   "outputs": [
    {
     "name": "stdout",
     "output_type": "stream",
     "text": [
      "Optimal Policy\n",
      "[[ 21.97744338  24.41938153  21.97744338  19.41938153  17.47744338]\n",
      " [ 19.77969904  21.97744338  19.77969904  17.80172914  16.02153504]\n",
      " [ 17.80172914  19.77969904  17.80172914  16.02153504  14.41938153]\n",
      " [ 16.02153504  17.80172914  16.02153504  14.41938153  12.97744338]\n",
      " [ 14.41938153  16.02153504  14.41938153  12.97744338  11.67969904]]\n"
     ]
    }
   ],
   "source": [
    "world = np.zeros((WORLD_SIZE, WORLD_SIZE))\n",
    "while True:\n",
    "    # keep iteration until convergence\n",
    "    newWorld = np.zeros((WORLD_SIZE, WORLD_SIZE))\n",
    "    for i in range(0, WORLD_SIZE):\n",
    "        for j in range(0, WORLD_SIZE):\n",
    "            values = []\n",
    "            for action in actions:\n",
    "                newPosition = nextState[i][j][action]\n",
    "                # value iteration\n",
    "                values.append(actionReward[i][j][action] + discount * world[newPosition[0], newPosition[1]])\n",
    "            newWorld[i][j] = np.max(values)\n",
    "    if np.sum(np.abs(world - newWorld)) < 1e-4:\n",
    "        print('Optimal Policy')\n",
    "        print(newWorld)\n",
    "        break\n",
    "    world = newWorld"
   ]
  }
 ],
 "metadata": {
  "kernelspec": {
   "display_name": "Python 3",
   "language": "python",
   "name": "python3"
  },
  "language_info": {
   "codemirror_mode": {
    "name": "ipython",
    "version": 3
   },
   "file_extension": ".py",
   "mimetype": "text/x-python",
   "name": "python",
   "nbconvert_exporter": "python",
   "pygments_lexer": "ipython3",
   "version": "3.6.1"
  }
 },
 "nbformat": 4,
 "nbformat_minor": 2
}
